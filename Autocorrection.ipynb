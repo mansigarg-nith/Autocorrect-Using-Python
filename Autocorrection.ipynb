{
 "cells": [
  {
   "cell_type": "code",
   "execution_count": 2,
   "metadata": {},
   "outputs": [
    {
     "name": "stdout",
     "output_type": "stream",
     "text": [
      "Collecting textdistance\n",
      "  Downloading textdistance-4.2.1-py3-none-any.whl (28 kB)\n",
      "Installing collected packages: textdistance\n",
      "Successfully installed textdistance-4.2.1\n",
      "Note: you may need to restart the kernel to use updated packages.\n"
     ]
    }
   ],
   "source": [
    "#installing the textdistance library\n",
    "pip install textdistance"
   ]
  },
  {
   "cell_type": "code",
   "execution_count": 17,
   "metadata": {},
   "outputs": [
    {
     "name": "stdout",
     "output_type": "stream",
     "text": [
      "17647 unique words are present in vocabulary\n",
      "First 10 words in the vocabulary are: \n",
      "['the', 'project', 'gutenberg', 'ebook', 'of', 'moby', 'dick', 'or', 'the', 'whale']\n"
     ]
    }
   ],
   "source": [
    "# importing the libraries\n",
    "import pandas as pd\n",
    "import numpy as np\n",
    "import textdistance\n",
    "import re\n",
    "from collections import Counter\n",
    "with open(r'C:\\Users\\HP\\OneDrive - NATIONAL INSTITUTE OF TECHNOLOGY\\Documents\\book.txt','r', encoding = 'utf8') as f:\n",
    "    file_data = f.read()\n",
    "    file_data = file_data.lower()\n",
    "    # required vocabulary\n",
    "    words = re.findall('\\w+', file_data)\n",
    "# V is the final set of all words (vocabulary)\n",
    "V = set(words)\n",
    "print(f\"{len(V)} unique words are present in vocabulary\")\n",
    "print(f\"First 10 words in the vocabulary are: \\n{words[0:10]}\")"
   ]
  },
  {
   "cell_type": "code",
   "execution_count": 18,
   "metadata": {},
   "outputs": [
    {
     "name": "stdout",
     "output_type": "stream",
     "text": [
      "The 10 most frequent words are: \n",
      "[('the', 14703), ('of', 6742), ('and', 6517), ('a', 4799), ('to', 4707), ('in', 4238), ('that', 3081), ('it', 2534), ('his', 2530), ('i', 2120)]\n"
     ]
    }
   ],
   "source": [
    "# defining a dictionary with words as keys and their frequencies as values\n",
    "word_freq_dict = {}\n",
    "word_freq_dict = Counter(words)\n",
    "print(f\"The 10 most frequent words are: \\n{word_freq_dict.most_common()[0:10]}\")"
   ]
  },
  {
   "cell_type": "code",
   "execution_count": 20,
   "metadata": {},
   "outputs": [],
   "source": [
    "# defining a dictionary probs with words as keys and their occurence probability as values\n",
    "probs = {}\n",
    "Total = sum(word_freq_dict.values())\n",
    "for k in word_freq_dict:\n",
    "    probs[k] = word_freq_dict[k]/Total"
   ]
  },
  {
   "cell_type": "code",
   "execution_count": 72,
   "metadata": {},
   "outputs": [],
   "source": [
    "# defining a function which returns the output\n",
    "def my_autocorrect(input_word):\n",
    "    input_word = input_word.lower() #convert input word to lowercase\n",
    "    if input_word in V:  # condition if word is correct\n",
    "        return(\"Your word seems to be correct\")\n",
    "    else:  # condition if word is not present in history of vocabulary\n",
    "        #calculating the jaccard distance (less the distance, more the similarity)\n",
    "        similarities = [1 - (textdistance.Jaccard(qval=2).distance(v,input_word)) for v in word_freq_dict.keys()] \n",
    "        #converting dictionary to dataframe\n",
    "        df = pd.DataFrame.from_dict(probs, orient = 'index').reset_index()\n",
    "        df = df.rename(columns={'index' : 'Word', 0:'Prob'})\n",
    "        df['Similarity'] = similarities\n",
    "        # sorting the values according to similarity and probablity and returning the top 5 results\n",
    "        output = df.sort_values(['Similarity', 'Prob'], ascending = False).head()\n",
    "        return list(output.Word)"
   ]
  },
  {
   "cell_type": "code",
   "execution_count": 73,
   "metadata": {},
   "outputs": [
    {
     "name": "stdout",
     "output_type": "stream",
     "text": [
      "Enter your word here: lern\n"
     ]
    },
    {
     "data": {
      "text/plain": [
       "['leathern', 'stern', 'learn', 'alert', 'idler']"
      ]
     },
     "execution_count": 73,
     "metadata": {},
     "output_type": "execute_result"
    }
   ],
   "source": [
    "w = input(\"Enter your word here: \")\n",
    "my_autocorrect(w)"
   ]
  },
  {
   "cell_type": "code",
   "execution_count": null,
   "metadata": {},
   "outputs": [],
   "source": []
  }
 ],
 "metadata": {
  "kernelspec": {
   "display_name": "Python 3",
   "language": "python",
   "name": "python3"
  },
  "language_info": {
   "codemirror_mode": {
    "name": "ipython",
    "version": 3
   },
   "file_extension": ".py",
   "mimetype": "text/x-python",
   "name": "python",
   "nbconvert_exporter": "python",
   "pygments_lexer": "ipython3",
   "version": "3.8.5"
  }
 },
 "nbformat": 4,
 "nbformat_minor": 4
}
